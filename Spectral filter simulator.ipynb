{
 "cells": [
  {
   "cell_type": "code",
   "execution_count": 1,
   "id": "5955971a-9d93-4e0e-831a-f2f191cfc126",
   "metadata": {},
   "outputs": [],
   "source": [
    "import numpy as np\n",
    "import numpy.typing as npt\n",
    "import cv2\n",
    "import sys\n",
    "import os\n",
    "\n",
    "from skimage.color import xyz2rgb\n",
    "from matplotlib import pyplot as plt\n",
    "from ipywidgets import HBox, VBox\n",
    "import ipywidgets as widgets"
   ]
  },
  {
   "cell_type": "code",
   "execution_count": 2,
   "id": "7c562185-dd97-4819-8977-6b2729efddb4",
   "metadata": {},
   "outputs": [],
   "source": [
    "WAVELEN_BASE = 400\n",
    "WAVELEN_INC = 10\n",
    "NUM_IMAGES = 31\n",
    "\n",
    "# D65 illuminant intensities for the above wavelengths, since the CAVE data approximates reflectances\n",
    "D65 = np.array([\n",
    "    82.7549, 91.486, 93.4318, 86.6823, 104.865, 117.008, 117.812, 114.861, 115.923, 108.811, 109.354,\n",
    "    107.802, 104.79, 107.689, 104.405, 104.046, 100.0, 96.3342, 95.788, 88.6856, 90.0062, 89.5991,\n",
    "    87.6987, 83.2886, 83.6992, 80.0268, 80.2146, 82.2778, 78.2842, 69.7213, 71.6091\n",
    "])\n",
    "WAVELENS = np.arange(WAVELEN_BASE, WAVELEN_BASE + WAVELEN_INC * NUM_IMAGES, WAVELEN_INC)"
   ]
  },
  {
   "cell_type": "code",
   "execution_count": 3,
   "id": "c077d9bd-e4d8-4717-bf7b-4d2fa257f700",
   "metadata": {},
   "outputs": [],
   "source": [
    "# Some color functions\n",
    "\n",
    "def gauss(x: npt.ArrayLike, mu: float, sigma1: float, sigma2: float) -> npt.NDArray:\n",
    "    x = np.asarray(x)\n",
    "    sigma = np.zeros_like(x, dtype=float)\n",
    "    sigma[x < mu] = sigma1\n",
    "    sigma[x >= mu] = sigma2\n",
    "    return np.exp(-0.5 * (x - mu) ** 2 / sigma**2)\n",
    "\n",
    "def wavelen_to_x(lam: float) -> float:\n",
    "    return (\n",
    "        1.056 * gauss(lam, 599.8, 37.9, 31.0)\n",
    "        + 0.362 * gauss(lam, 442.0, 16.0, 26.7)\n",
    "        - 0.065 * gauss(lam, 501.1, 20.4, 26.2))\n",
    "\n",
    "def wavelen_to_y(lam: npt.ArrayLike) -> npt.ArrayLike:\n",
    "    return 0.821 * gauss(lam, 568.8, 46.9, 40.5) + 0.286 * gauss(lam, 530.9, 16.3, 31.1)\n",
    "\n",
    "def wavelen_to_z(lam: npt.ArrayLike) -> npt.ArrayLike:\n",
    "    return 1.217 * gauss(lam, 437.0, 11.8, 36.0) + 0.681 * gauss(lam, 459.0, 26.0, 13.8)\n",
    "\n",
    "def wavelen_to_xyz(lam: npt.ArrayLike) -> npt.NDArray:\n",
    "    return np.array([wavelen_to_x(lam), wavelen_to_y(lam), wavelen_to_z(lam)])\n",
    "\n",
    "xyz_of_wavelen = wavelen_to_xyz(WAVELENS)"
   ]
  },
  {
   "cell_type": "code",
   "execution_count": 4,
   "id": "aa5d2cd6-dc47-495e-afe4-df41835336d0",
   "metadata": {},
   "outputs": [],
   "source": [
    "def load_image(name):\n",
    "    global im, image_name\n",
    "    image_name = name\n",
    "    im = (\n",
    "        np.array(\n",
    "            [\n",
    "                cv2.imread(f\"data/{image_name}/{image_name}_{chan:02d}.png\", cv2.IMREAD_UNCHANGED)\n",
    "                for chan in range(1, 1 + NUM_IMAGES)\n",
    "            ]\n",
    "        ).astype(float)\n",
    "        / 65535.0\n",
    "    )\n",
    "    return im\n",
    "image_name = ''"
   ]
  },
  {
   "cell_type": "code",
   "execution_count": 5,
   "id": "6b9ab152-3b28-49d1-a17d-2fc380c6c58c",
   "metadata": {},
   "outputs": [],
   "source": [
    "def calc_image(muls):\n",
    "    a = (xyz_of_wavelen * (muls * D65)).dot(im.transpose(1, 0, 2)).transpose(1, 2, 0)\n",
    "    a /= a.max()\n",
    "    a = xyz2rgb(a)\n",
    "    return a / a.max()"
   ]
  },
  {
   "cell_type": "code",
   "execution_count": 6,
   "id": "a0367e64-c80d-469f-bbc7-c2ad99fbcc9a",
   "metadata": {},
   "outputs": [],
   "source": [
    "def plot_image(muls):\n",
    "    plt.imshow(calc_image(muls))"
   ]
  },
  {
   "cell_type": "code",
   "execution_count": 7,
   "id": "ba0a96ba",
   "metadata": {},
   "outputs": [],
   "source": [
    "sliders = [widgets.FloatSlider(min=0.0, max=1.0, value=1.0, continuous_update=False, description=f'{nm} nm')\n",
    "     for nm in WAVELENS]\n",
    "enable = widgets.Checkbox(value=True, description=\"Enable filter\")\n",
    "image_chooser = widgets.Dropdown(options=sorted(os.listdir('data/')))\n",
    "widget_dict = {'enable': enable, 'image': image_chooser, **{s.description: s for s in sliders}}"
   ]
  },
  {
   "cell_type": "code",
   "execution_count": 8,
   "id": "f7d9a972-f106-40b5-8237-937429227913",
   "metadata": {},
   "outputs": [
    {
     "data": {
      "application/vnd.jupyter.widget-view+json": {
       "model_id": "75137294b5b243a1b35180f0cd30aa98",
       "version_major": 2,
       "version_minor": 0
      },
      "text/plain": [
       "VBox(children=(HBox(children=(Output(), VBox(children=(Dropdown(options=('balloons_ms', 'beads_ms', 'cd_ms', '…"
      ]
     },
     "metadata": {},
     "output_type": "display_data"
    }
   ],
   "source": [
    "def update(**kwargs):\n",
    "    if kwargs['image'] != image_name:\n",
    "        load_image(kwargs['image'])\n",
    "    if kwargs['enable']:\n",
    "        muls = np.asarray([s.value for s in sliders])\n",
    "    else:\n",
    "        muls = np.ones((NUM_IMAGES,))\n",
    "    plt.figure(figsize=(10, 10))\n",
    "    plot_image(muls)\n",
    "\n",
    "demo = widgets.interactive_output(update, widget_dict)\n",
    "\n",
    "layout = HBox([VBox(sliders[:10]), VBox(sliders[10:20]), VBox(sliders[20:])])\n",
    "layout = VBox([HBox([demo, VBox([image_chooser, enable])]), layout])\n",
    "\n",
    "display(layout)"
   ]
  }
 ],
 "metadata": {
  "kernelspec": {
   "display_name": "torch310",
   "language": "python",
   "name": "torch310"
  },
  "language_info": {
   "codemirror_mode": {
    "name": "ipython",
    "version": 3
   },
   "file_extension": ".py",
   "mimetype": "text/x-python",
   "name": "python",
   "nbconvert_exporter": "python",
   "pygments_lexer": "ipython3",
   "version": "3.10.4"
  }
 },
 "nbformat": 4,
 "nbformat_minor": 5
}
