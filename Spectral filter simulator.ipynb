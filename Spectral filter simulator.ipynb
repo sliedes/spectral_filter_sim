{
 "cells": [
  {
   "cell_type": "markdown",
   "id": "d3e5ca62-4613-45b9-9c9a-dae8e3e412c9",
   "metadata": {
    "tags": []
   },
   "source": [
    "# Spectral filter simulation\n",
    "\n",
    "## Instructions\n",
    "\n",
    "To run, choose **Run->Run all cells** in the menu. Then scroll down to view the controls and the image.\n",
    "\n",
    "## What is it?\n",
    "\n",
    "You can use this notebook to approximate the effects of viewing scenes in the [CAVE Multispectral Image Database](https://www.cs.columbia.edu/CAVE/databases/multispectral/) in daylight through a spectral filter. Those images consist of 31 narrow band images in the 400—700 nm range.\n",
    "\n",
    "An example of such a spectral filter could be glasses that have a notch to enhance separation between red and green colors, probably somewhere around the 550-600 nm range.\n",
    "\n",
    "To be precise, it:\n",
    "\n",
    "- Applies suitable lighting to the scenes (standard illuminant D65, corresponding to neutral daylight). The original scenes supposedly correspond to the reflectances of the scene, i.e. illuminated by an equal-energy radiator.\n",
    "- Computes the cone cell responses (LMS space) corresponding to the illuminated scene. This can be done with modified cone cell responses, for example to simulate filters or color blindness.\n",
    "- If a filter is being simulated, applies chromatic adaptation to the LMS outputs with the assumption that the eye has adapted to the filter. This means that the observer has adapted so that the color of the filter looks like D65 white.\n",
    "- Computes the _standard observer_ LMS responses for monochromatic red, green and blue in order to render the scene in sRGB. This, too, could be done for any observer; however currently this functionality is not exposed in this notebook. This allows a normal-vision user to simulate color blindness, and all other conditions, with this notebook. If we computed these for a color-blind user, we could do the opposite: A color-blind observer could use it to simulate a normal-vision user, to the extent that the output colors are not out of gamut in that color blindness.\n",
    "\n",
    "## How to use it?\n",
    "\n",
    "The LMS response curve you see below (after running the cells) corresponds to normal vision. Notice how even in normal vision the L and M curves (\"red\" and \"green\", though these names are a bit misleading) mostly overlap each other. In the most common forms of color blindness, deuteranomalia, the M curve has shifted towards longer wavelengths. For what I believe is a reasonably bad, but not extreme, case of color blindness, try setting the M slider to 17. This shifts the M curve by 17 nanometers toward the L one. You can observe that the photo is updated to reproduce a smaller number of colors.\n",
    "\n",
    "With the sliders below the photo, you can apply an optical filter. For example, setting the _560 nm_ slider to 0.00 would mean that all light at the 510 nm wavelength is blocked. The cone cell response curves are updated to reflect the new response. Everything is shown with normalized values, so you can apply a filter that is not practically useful because it blocks too much light, and this notebook will still happily show the result to you. I apologize for the user interface; it wasn't my top priority.\n",
    "\n",
    "You can use the _Image_ drop down menu to choose a different scene.\n",
    "\n",
    "The _Enable filter_ toggle enables or disables the filter settings you have set below. This is useful for seeing the effects of a filter at a glance by switching between filtered and unfiltered views.\n",
    "\n",
    "Similarly, the _Enable shift_ toggle enables or disables the LMS shifts you have applied in the three sliders.\n",
    "\n",
    "## Things to try out\n",
    "\n",
    "Here are a couple of color separation optimized filter settings you might want to try out:\n",
    "\n",
    "### Normal vision\n",
    "\n",
    "For normal vision, ensure that the LMS shifts are set to 0. For a good color separation filter, try these settings (again, apologies for not having a button to apply them). This filter blocks about 78% of light. Normal sunglasses block about 60% to 92% of light.\n",
    "\n",
    "- 400—420 nm: 1.00\n",
    "- 430—510 nm: 0.00\n",
    "- 520 nm: 1.00\n",
    "- 530 nm: 0.80\n",
    "- 540—610 nm: 0.00\n",
    "- 620—700 nm: 1.00\n",
    "\n",
    "Now try toggling the _Enable filter_ toggle to compare the effect with and without filter.\n",
    "\n",
    "### Deuteranomaly\n",
    "\n",
    "Set the _M shift_ slider to 17 nm to simulate a reasonably severe deuteranomaly. Ensure that the _Enable shift_ and _Enable filter_ toggles are on. Try the following filter settings, optimized for color separation. This filter blocks about 72% of light.\n",
    "\n",
    "- 400—410 nm: 1.00\n",
    "- 420—530 nm: 0.00\n",
    "- 540—550 nm: 1.00\n",
    "- 560 nm: 0.05\n",
    "- 570—610 nm: 0.00\n",
    "- 620—700 nm: 1.00"
   ]
  },
  {
   "cell_type": "code",
   "execution_count": 1,
   "id": "dac94013-ec42-4733-9f29-770247b8637d",
   "metadata": {
    "jupyter": {
     "source_hidden": true
    },
    "tags": []
   },
   "outputs": [],
   "source": [
    "import os, numpy as np, ipywidgets as widgets\n",
    "\n",
    "os.environ[\"TF_CPP_MIN_LOG_LEVEL\"] = \"3\"\n",
    "\n",
    "from matplotlib import pyplot as plt\n",
    "from matplotlib.ticker import MultipleLocator\n",
    "from ipywidgets import HBox, VBox\n",
    "import ipywidgets as widgets\n",
    "\n",
    "import render_filtered as rend"
   ]
  },
  {
   "cell_type": "code",
   "execution_count": 2,
   "id": "a0367e64-c80d-469f-bbc7-c2ad99fbcc9a",
   "metadata": {
    "jupyter": {
     "source_hidden": true
    },
    "tags": []
   },
   "outputs": [],
   "source": [
    "def plot_image(name, lms):\n",
    "    plt.imshow(rend.linrgb_to_srgb(rend.load_adapted_image_linrgb(name, lms)))"
   ]
  },
  {
   "cell_type": "code",
   "execution_count": 3,
   "id": "ba0a96ba",
   "metadata": {
    "tags": []
   },
   "outputs": [],
   "source": [
    "sliders = [widgets.FloatSlider(\n",
    "    min=0.0, max=1.0, value=1.0, step=0.05, continuous_update=False, description=f'{nm} nm')\n",
    "    for nm in rend.IMG_WAVELENS]\n",
    "enable_filter = widgets.Checkbox(value=True, description=\"Enable filter\")\n",
    "enable_shift = widgets.Checkbox(value=True, description=\"Enable shift\")\n",
    "image_chooser = widgets.Dropdown(options=sorted(os.listdir('data/')), description=\"Image\")\n",
    "lshift = widgets.IntSlider(min=-50, max=50, continuous_update=False, value=0, description=\"L (red) shift\")\n",
    "mshift = widgets.IntSlider(min=-50, max=50, continuous_update=False, value=0, description=\"M (green) shift\")\n",
    "sshift = widgets.IntSlider(min=-50, max=50, continuous_update=False, value=0, description=\"S (blue) shift\")\n",
    "lshift.layout.width = '780px'\n",
    "mshift.layout.width = '780px'\n",
    "sshift.layout.width = '780px'\n",
    "widget_dict = {'enable_filter': enable_filter, 'enable_shift': enable_shift,\n",
    "               'name': image_chooser,\n",
    "               'lshift': lshift, 'mshift': mshift, 'sshift': sshift,\n",
    "               **{s.description: s for s in sliders}}"
   ]
  },
  {
   "cell_type": "code",
   "execution_count": 4,
   "id": "c742c0c7",
   "metadata": {
    "jupyter": {
     "source_hidden": true
    },
    "tags": []
   },
   "outputs": [],
   "source": [
    "def plot_lms(lmsp):\n",
    "    fig, ax = plt.subplots(figsize=(12, 3))\n",
    "    (l,) = ax.plot(rend.PREC_WAVELENS, lmsp[:, 0] / max(lmsp[:, 0]), 'r')\n",
    "    (m,) = ax.plot(rend.PREC_WAVELENS, lmsp[:, 1] / max(lmsp[:, 1]), 'g')\n",
    "    (s,) = ax.plot(rend.PREC_WAVELENS, lmsp[:, 2] / max(lmsp[:, 2]), 'b')\n",
    "    ax.set_xlim((rend.PREC_WAVELENS.min(), 700))\n",
    "    ax.xaxis.set_major_locator(MultipleLocator(50))\n",
    "    ax.xaxis.set_minor_locator(MultipleLocator(10))\n",
    "    ax.set_xlabel('Wavelength (nm)')\n",
    "    return l, m, s"
   ]
  },
  {
   "cell_type": "code",
   "execution_count": 5,
   "id": "f7d9a972-f106-40b5-8237-937429227913",
   "metadata": {
    "jupyter": {
     "source_hidden": true
    },
    "tags": []
   },
   "outputs": [],
   "source": [
    "def calc_lms(*, lshift, mshift, sshift, enable_filter, enable_shift, **kwargs):\n",
    "    lms = rend.STDLMS\n",
    "    if enable_shift:\n",
    "        lms = rend.shift_lms(lms, lshift, mshift, sshift)\n",
    "    if enable_filter:\n",
    "        lms *= rend.interp_freqs(np.asarray([s.value for s in sliders])).reshape(-1, 1)\n",
    "    return lms\n",
    "\n",
    "def update_image(*, name, **kwargs):\n",
    "    plt.figure(figsize=(8, 8))\n",
    "    plot_image(name, calc_lms(**kwargs))\n",
    "\n",
    "def update_lms(**kwargs):\n",
    "    plot_lms(calc_lms(**kwargs))\n",
    "\n",
    "image = widgets.interactive_output(update_image, widget_dict)\n",
    "\n",
    "lms_plot = widgets.interactive_output(update_lms, widget_dict)\n",
    "lms_plot.layout.height = '220px'\n",
    "lms_plot.layout.width = '800px'\n",
    "\n",
    "sliders_box = HBox([VBox(sliders[:10]), VBox(sliders[10:20]), VBox(sliders[20:])])\n",
    "\n",
    "lms_box = VBox([lms_plot, lshift, mshift, sshift])\n",
    "layout = VBox([HBox([image, VBox([image_chooser, enable_filter, enable_shift])]), sliders_box])"
   ]
  },
  {
   "cell_type": "code",
   "execution_count": 6,
   "id": "e0efa42a-b02b-40de-a81e-39acdfca7338",
   "metadata": {
    "tags": []
   },
   "outputs": [
    {
     "data": {
      "application/vnd.jupyter.widget-view+json": {
       "model_id": "bcbc1517fd3447a3b4d0715c9453ef33",
       "version_major": 2,
       "version_minor": 0
      },
      "text/plain": [
       "VBox(children=(Output(layout=Layout(height='220px', width='800px')), IntSlider(value=0, continuous_update=Fals…"
      ]
     },
     "metadata": {},
     "output_type": "display_data"
    }
   ],
   "source": [
    "disp = display(lms_box)"
   ]
  },
  {
   "cell_type": "code",
   "execution_count": 7,
   "id": "7f59c760-72c9-4ad0-a5e3-0bc537de04db",
   "metadata": {},
   "outputs": [
    {
     "data": {
      "application/vnd.jupyter.widget-view+json": {
       "model_id": "620f46350675432fa7f1f63c84054a8d",
       "version_major": 2,
       "version_minor": 0
      },
      "text/plain": [
       "VBox(children=(HBox(children=(Output(), VBox(children=(Dropdown(description='Image', options=('balloons_ms', '…"
      ]
     },
     "metadata": {},
     "output_type": "display_data"
    }
   ],
   "source": [
    "display(layout)"
   ]
  }
 ],
 "metadata": {
  "kernelspec": {
   "display_name": "torch310",
   "language": "python",
   "name": "torch310"
  },
  "language_info": {
   "codemirror_mode": {
    "name": "ipython",
    "version": 3
   },
   "file_extension": ".py",
   "mimetype": "text/x-python",
   "name": "python",
   "nbconvert_exporter": "python",
   "pygments_lexer": "ipython3",
   "version": "3.10.4"
  }
 },
 "nbformat": 4,
 "nbformat_minor": 5
}
