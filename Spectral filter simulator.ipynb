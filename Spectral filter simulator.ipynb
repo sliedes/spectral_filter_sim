{
 "cells": [
  {
   "cell_type": "code",
   "execution_count": 1,
   "id": "5955971a-9d93-4e0e-831a-f2f191cfc126",
   "metadata": {
    "tags": []
   },
   "outputs": [],
   "source": [
    "import os, numpy as np, ipywidgets as widgets\n",
    "\n",
    "from matplotlib import pyplot as plt\n",
    "from matplotlib.ticker import MultipleLocator\n",
    "from ipywidgets import HBox, VBox\n",
    "import ipywidgets as widgets\n",
    "\n",
    "import render_filtered as rend"
   ]
  },
  {
   "cell_type": "code",
   "execution_count": 2,
   "id": "a0367e64-c80d-469f-bbc7-c2ad99fbcc9a",
   "metadata": {
    "tags": []
   },
   "outputs": [],
   "source": [
    "def plot_image(name, lms):\n",
    "    plt.imshow(rend.linrgb_to_srgb(rend.load_adapted_image_linrgb(name, lms)))"
   ]
  },
  {
   "cell_type": "code",
   "execution_count": 3,
   "id": "ba0a96ba",
   "metadata": {
    "tags": []
   },
   "outputs": [],
   "source": [
    "sliders = [widgets.FloatSlider(min=0.0, max=1.0, value=1.0, continuous_update=False, description=f'{nm} nm')\n",
    "     for nm in rend.IMG_WAVELENS]\n",
    "enable_filter = widgets.Checkbox(value=True, description=\"Enable filter\")\n",
    "enable_shift = widgets.Checkbox(value=True, description=\"Enable shift\")\n",
    "image_chooser = widgets.Dropdown(options=sorted(os.listdir('data/')), description=\"Image\")\n",
    "lshift = widgets.IntSlider(min=-50, max=50, continuous_update=False, value=0, description=\"L (red) shift\")\n",
    "mshift = widgets.IntSlider(min=-50, max=50, continuous_update=False, value=0, description=\"M (green) shift\")\n",
    "sshift = widgets.IntSlider(min=-50, max=50, continuous_update=False, value=0, description=\"S (blue) shift\")\n",
    "lshift.layout.width = '780px'\n",
    "mshift.layout.width = '780px'\n",
    "sshift.layout.width = '780px'\n",
    "widget_dict = {'enable_filter': enable_filter, 'enable_shift': enable_shift,\n",
    "               'name': image_chooser,\n",
    "               'lshift': lshift, 'mshift': mshift, 'sshift': sshift,\n",
    "               **{s.description: s for s in sliders}}"
   ]
  },
  {
   "cell_type": "code",
   "execution_count": 4,
   "id": "c742c0c7",
   "metadata": {
    "tags": []
   },
   "outputs": [],
   "source": [
    "def plot_lms(lmsp):\n",
    "    fig, ax = plt.subplots(figsize=(12, 3))\n",
    "    (l,) = ax.plot(rend.PREC_WAVELENS, lmsp[:, 0] / max(lmsp[:, 0]), 'r')\n",
    "    (m,) = ax.plot(rend.PREC_WAVELENS, lmsp[:, 1] / max(lmsp[:, 1]), 'g')\n",
    "    (s,) = ax.plot(rend.PREC_WAVELENS, lmsp[:, 2] / max(lmsp[:, 2]), 'b')\n",
    "    ax.set_xlim((rend.PREC_WAVELENS.min(), 700))\n",
    "    ax.xaxis.set_major_locator(MultipleLocator(50))\n",
    "    ax.xaxis.set_minor_locator(MultipleLocator(10))\n",
    "    ax.set_xlabel('Wavelength (nm)')\n",
    "    return l, m, s"
   ]
  },
  {
   "cell_type": "code",
   "execution_count": 5,
   "id": "f7d9a972-f106-40b5-8237-937429227913",
   "metadata": {
    "tags": []
   },
   "outputs": [],
   "source": [
    "def calc_lms(*, lshift, mshift, sshift, enable_filter, enable_shift, **kwargs):\n",
    "    lms = rend.LMS_STD.copy()\n",
    "    if enable_shift:\n",
    "        lms = rend.shift_lms(lms, lshift, mshift, sshift)\n",
    "    if enable_filter:\n",
    "        lms *= rend.interp_freqs(np.asarray([s.value for s in sliders])).reshape(-1, 1)\n",
    "    return lms\n",
    "\n",
    "def update_image(*, name, **kwargs):\n",
    "    plt.figure(figsize=(8, 8))\n",
    "    plot_image(name, calc_lms(**kwargs))\n",
    "\n",
    "def update_lms(**kwargs):\n",
    "    plot_lms(calc_lms(**kwargs))\n",
    "\n",
    "image = widgets.interactive_output(update_image, widget_dict)\n",
    "\n",
    "lms_plot = widgets.interactive_output(update_lms, widget_dict)\n",
    "lms_plot.layout.height = '220px'\n",
    "lms_plot.layout.width = '800px'\n",
    "\n",
    "sliders_box = HBox([VBox(sliders[:10]), VBox(sliders[10:20]), VBox(sliders[20:])])\n",
    "\n",
    "lms_box = VBox([lms_plot, lshift, mshift, sshift])\n",
    "layout = VBox([HBox([image, VBox([image_chooser, enable_filter, enable_shift])]), sliders_box])"
   ]
  },
  {
   "cell_type": "code",
   "execution_count": 6,
   "id": "e0efa42a-b02b-40de-a81e-39acdfca7338",
   "metadata": {
    "tags": []
   },
   "outputs": [
    {
     "data": {
      "application/vnd.jupyter.widget-view+json": {
       "model_id": "214ce8a5b10d45e4a44e91e62c1e143f",
       "version_major": 2,
       "version_minor": 0
      },
      "text/plain": [
       "VBox(children=(Output(layout=Layout(height='220px', width='800px')), IntSlider(value=0, continuous_update=Fals…"
      ]
     },
     "metadata": {},
     "output_type": "display_data"
    }
   ],
   "source": [
    "disp = display(lms_box)"
   ]
  },
  {
   "cell_type": "code",
   "execution_count": 8,
   "id": "7f59c760-72c9-4ad0-a5e3-0bc537de04db",
   "metadata": {},
   "outputs": [
    {
     "data": {
      "application/vnd.jupyter.widget-view+json": {
       "model_id": "83797b60e0924e7c82cc62efe9d1eae2",
       "version_major": 2,
       "version_minor": 0
      },
      "text/plain": [
       "VBox(children=(HBox(children=(Output(outputs=({'output_type': 'display_data', 'data': {'text/plain': '<Figure …"
      ]
     },
     "metadata": {},
     "output_type": "display_data"
    }
   ],
   "source": [
    "display(layout)"
   ]
  },
  {
   "cell_type": "code",
   "execution_count": null,
   "id": "56619229-c62c-4768-96a5-cf1c651822da",
   "metadata": {},
   "outputs": [],
   "source": []
  }
 ],
 "metadata": {
  "kernelspec": {
   "display_name": "torch310",
   "language": "python",
   "name": "torch310"
  },
  "language_info": {
   "codemirror_mode": {
    "name": "ipython",
    "version": 3
   },
   "file_extension": ".py",
   "mimetype": "text/x-python",
   "name": "python",
   "nbconvert_exporter": "python",
   "pygments_lexer": "ipython3",
   "version": "3.10.4"
  }
 },
 "nbformat": 4,
 "nbformat_minor": 5
}
