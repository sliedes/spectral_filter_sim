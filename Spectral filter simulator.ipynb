{
 "cells": [
  {
   "cell_type": "code",
   "execution_count": 1,
   "id": "5955971a-9d93-4e0e-831a-f2f191cfc126",
   "metadata": {
    "collapsed": true,
    "jupyter": {
     "outputs_hidden": true,
     "source_hidden": true
    },
    "tags": []
   },
   "outputs": [
    {
     "name": "stderr",
     "output_type": "stream",
     "text": [
      "2022-05-10 00:01:35.909664: I tensorflow/stream_executor/cuda/cuda_gpu_executor.cc:936] successful NUMA node read from SysFS had negative value (-1), but there must be at least one NUMA node, so returning NUMA node zero\n",
      "2022-05-10 00:01:35.924165: I tensorflow/stream_executor/cuda/cuda_gpu_executor.cc:936] successful NUMA node read from SysFS had negative value (-1), but there must be at least one NUMA node, so returning NUMA node zero\n",
      "2022-05-10 00:01:35.924345: I tensorflow/stream_executor/cuda/cuda_gpu_executor.cc:936] successful NUMA node read from SysFS had negative value (-1), but there must be at least one NUMA node, so returning NUMA node zero\n",
      "2022-05-10 00:01:35.925046: I tensorflow/core/platform/cpu_feature_guard.cc:151] This TensorFlow binary is optimized with oneAPI Deep Neural Network Library (oneDNN) to use the following CPU instructions in performance-critical operations:  AVX2 FMA\n",
      "To enable them in other operations, rebuild TensorFlow with the appropriate compiler flags.\n",
      "2022-05-10 00:01:35.925634: I tensorflow/stream_executor/cuda/cuda_gpu_executor.cc:936] successful NUMA node read from SysFS had negative value (-1), but there must be at least one NUMA node, so returning NUMA node zero\n",
      "2022-05-10 00:01:35.925758: I tensorflow/stream_executor/cuda/cuda_gpu_executor.cc:936] successful NUMA node read from SysFS had negative value (-1), but there must be at least one NUMA node, so returning NUMA node zero\n",
      "2022-05-10 00:01:35.925860: I tensorflow/stream_executor/cuda/cuda_gpu_executor.cc:936] successful NUMA node read from SysFS had negative value (-1), but there must be at least one NUMA node, so returning NUMA node zero\n",
      "2022-05-10 00:01:36.463444: I tensorflow/stream_executor/cuda/cuda_gpu_executor.cc:936] successful NUMA node read from SysFS had negative value (-1), but there must be at least one NUMA node, so returning NUMA node zero\n",
      "2022-05-10 00:01:36.463668: I tensorflow/stream_executor/cuda/cuda_gpu_executor.cc:936] successful NUMA node read from SysFS had negative value (-1), but there must be at least one NUMA node, so returning NUMA node zero\n",
      "2022-05-10 00:01:36.463860: I tensorflow/stream_executor/cuda/cuda_gpu_executor.cc:936] successful NUMA node read from SysFS had negative value (-1), but there must be at least one NUMA node, so returning NUMA node zero\n",
      "2022-05-10 00:01:36.463944: W tensorflow/core/common_runtime/gpu/gpu_bfc_allocator.cc:39] Overriding allow_growth setting because the TF_FORCE_GPU_ALLOW_GROWTH environment variable is set. Original config value was 0.\n",
      "2022-05-10 00:01:36.463976: I tensorflow/core/common_runtime/gpu/gpu_device.cc:1525] Created device /job:localhost/replica:0/task:0/device:GPU:0 with 5326 MB memory:  -> device: 0, name: NVIDIA GeForce GTX 1080 Ti, pci bus id: 0000:01:00.0, compute capability: 6.1\n",
      "2022-05-10 00:01:36.476783: I tensorflow/core/util/cuda_solvers.cc:179] Creating GpuSolver handles for stream 0x5583ceb36930\n"
     ]
    }
   ],
   "source": [
    "import os, numpy as np, ipywidgets as widgets\n",
    "\n",
    "from matplotlib import pyplot as plt\n",
    "from matplotlib.ticker import MultipleLocator\n",
    "from ipywidgets import HBox, VBox\n",
    "import ipywidgets as widgets\n",
    "\n",
    "import render_filtered as rend"
   ]
  },
  {
   "cell_type": "code",
   "execution_count": 2,
   "id": "a0367e64-c80d-469f-bbc7-c2ad99fbcc9a",
   "metadata": {
    "jupyter": {
     "source_hidden": true
    },
    "tags": []
   },
   "outputs": [],
   "source": [
    "def plot_image(name, lms):\n",
    "    plt.imshow(rend.linrgb_to_srgb(rend.load_adapted_image_linrgb(name, lms)))"
   ]
  },
  {
   "cell_type": "code",
   "execution_count": 3,
   "id": "ba0a96ba",
   "metadata": {
    "jupyter": {
     "source_hidden": true
    },
    "tags": []
   },
   "outputs": [],
   "source": [
    "sliders = [widgets.FloatSlider(\n",
    "    min=0.0, max=1.0, value=1.0, step=0.05, continuous_update=False, description=f'{nm} nm')\n",
    "    for nm in rend.IMG_WAVELENS]\n",
    "enable_filter = widgets.Checkbox(value=True, description=\"Enable filter\")\n",
    "enable_shift = widgets.Checkbox(value=True, description=\"Enable shift\")\n",
    "image_chooser = widgets.Dropdown(options=sorted(os.listdir('data/')), description=\"Image\")\n",
    "lshift = widgets.IntSlider(min=-50, max=50, continuous_update=False, value=0, description=\"L (red) shift\")\n",
    "mshift = widgets.IntSlider(min=-50, max=50, continuous_update=False, value=0, description=\"M (green) shift\")\n",
    "sshift = widgets.IntSlider(min=-50, max=50, continuous_update=False, value=0, description=\"S (blue) shift\")\n",
    "lshift.layout.width = '780px'\n",
    "mshift.layout.width = '780px'\n",
    "sshift.layout.width = '780px'\n",
    "widget_dict = {'enable_filter': enable_filter, 'enable_shift': enable_shift,\n",
    "               'name': image_chooser,\n",
    "               'lshift': lshift, 'mshift': mshift, 'sshift': sshift,\n",
    "               **{s.description: s for s in sliders}}"
   ]
  },
  {
   "cell_type": "code",
   "execution_count": 4,
   "id": "c742c0c7",
   "metadata": {
    "jupyter": {
     "source_hidden": true
    },
    "tags": []
   },
   "outputs": [],
   "source": [
    "def plot_lms(lmsp):\n",
    "    fig, ax = plt.subplots(figsize=(12, 3))\n",
    "    (l,) = ax.plot(rend.PREC_WAVELENS, lmsp[:, 0] / max(lmsp[:, 0]), 'r')\n",
    "    (m,) = ax.plot(rend.PREC_WAVELENS, lmsp[:, 1] / max(lmsp[:, 1]), 'g')\n",
    "    (s,) = ax.plot(rend.PREC_WAVELENS, lmsp[:, 2] / max(lmsp[:, 2]), 'b')\n",
    "    ax.set_xlim((rend.PREC_WAVELENS.min(), 700))\n",
    "    ax.xaxis.set_major_locator(MultipleLocator(50))\n",
    "    ax.xaxis.set_minor_locator(MultipleLocator(10))\n",
    "    ax.set_xlabel('Wavelength (nm)')\n",
    "    return l, m, s"
   ]
  },
  {
   "cell_type": "code",
   "execution_count": 5,
   "id": "f7d9a972-f106-40b5-8237-937429227913",
   "metadata": {
    "jupyter": {
     "source_hidden": true
    },
    "tags": []
   },
   "outputs": [],
   "source": [
    "def calc_lms(*, lshift, mshift, sshift, enable_filter, enable_shift, **kwargs):\n",
    "    lms = rend.STDLMS\n",
    "    if enable_shift:\n",
    "        lms = rend.shift_lms(lms, lshift, mshift, sshift)\n",
    "    if enable_filter:\n",
    "        lms *= rend.interp_freqs(np.asarray([s.value for s in sliders])).reshape(-1, 1)\n",
    "    return lms\n",
    "\n",
    "def update_image(*, name, **kwargs):\n",
    "    plt.figure(figsize=(8, 8))\n",
    "    plot_image(name, calc_lms(**kwargs))\n",
    "\n",
    "def update_lms(**kwargs):\n",
    "    plot_lms(calc_lms(**kwargs))\n",
    "\n",
    "image = widgets.interactive_output(update_image, widget_dict)\n",
    "\n",
    "lms_plot = widgets.interactive_output(update_lms, widget_dict)\n",
    "lms_plot.layout.height = '220px'\n",
    "lms_plot.layout.width = '800px'\n",
    "\n",
    "sliders_box = HBox([VBox(sliders[:10]), VBox(sliders[10:20]), VBox(sliders[20:])])\n",
    "\n",
    "lms_box = VBox([lms_plot, lshift, mshift, sshift])\n",
    "layout = VBox([HBox([image, VBox([image_chooser, enable_filter, enable_shift])]), sliders_box])"
   ]
  },
  {
   "cell_type": "code",
   "execution_count": 6,
   "id": "e0efa42a-b02b-40de-a81e-39acdfca7338",
   "metadata": {
    "tags": []
   },
   "outputs": [
    {
     "data": {
      "application/vnd.jupyter.widget-view+json": {
       "model_id": "68cbf42fb2a145019c4a76fb57b3f329",
       "version_major": 2,
       "version_minor": 0
      },
      "text/plain": [
       "VBox(children=(Output(layout=Layout(height='220px', width='800px')), IntSlider(value=0, continuous_update=Fals…"
      ]
     },
     "metadata": {},
     "output_type": "display_data"
    }
   ],
   "source": [
    "disp = display(lms_box)"
   ]
  },
  {
   "cell_type": "code",
   "execution_count": 7,
   "id": "7f59c760-72c9-4ad0-a5e3-0bc537de04db",
   "metadata": {},
   "outputs": [
    {
     "data": {
      "application/vnd.jupyter.widget-view+json": {
       "model_id": "c8bce95abe0d4da197843f942f3460b6",
       "version_major": 2,
       "version_minor": 0
      },
      "text/plain": [
       "VBox(children=(HBox(children=(Output(), VBox(children=(Dropdown(description='Image', options=('balloons_ms', '…"
      ]
     },
     "metadata": {},
     "output_type": "display_data"
    }
   ],
   "source": [
    "display(layout)"
   ]
  }
 ],
 "metadata": {
  "kernelspec": {
   "display_name": "torch310",
   "language": "python",
   "name": "torch310"
  },
  "language_info": {
   "codemirror_mode": {
    "name": "ipython",
    "version": 3
   },
   "file_extension": ".py",
   "mimetype": "text/x-python",
   "name": "python",
   "nbconvert_exporter": "python",
   "pygments_lexer": "ipython3",
   "version": "3.10.4"
  }
 },
 "nbformat": 4,
 "nbformat_minor": 5
}
